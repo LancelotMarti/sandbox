{
 "cells": [
  {
   "cell_type": "code",
   "execution_count": 1,
   "metadata": {},
   "outputs": [],
   "source": [
    "import recordlinkage\n",
    "from recordlinkage.index import Block\n",
    "import pandas as pd"
   ]
  },
  {
   "cell_type": "markdown",
   "metadata": {},
   "source": [
    "## Basic example"
   ]
  },
  {
   "cell_type": "code",
   "execution_count": 2,
   "metadata": {},
   "outputs": [],
   "source": [
    "# Hypothetical datasets\n",
    "data1 = {\n",
    "    'Name': ['David Smith', 'Bill Johnson', 'Charles Brown'],\n",
    "    'DateOfBirth': ['1990-01-01', '1985-05-12', '1980-07-23'],\n",
    "    'Gender': ['F', 'M', 'M'],\n",
    "    'Address': ['123 Main St', '456 Elm St', '789 Oak St']\n",
    "}\n",
    "\n",
    "data2 = {\n",
    "    'Name': ['David Smith', 'Robert Johnson', 'Chad Brade'],\n",
    "    'DateOfBirth': ['1990-01-01', '1985-05-12', '1980-07-25'],\n",
    "    'Gender': ['F', 'M', 'M'],\n",
    "    'Address': ['123 Main Street', '456 Elm Street', '789 Oak Street']\n",
    "}\n",
    "\n",
    "df1 = pd.DataFrame(data1)\n",
    "df2 = pd.DataFrame(data2)"
   ]
  },
  {
   "cell_type": "code",
   "execution_count": 3,
   "metadata": {},
   "outputs": [
    {
     "data": {
      "text/html": [
       "<div>\n",
       "<style scoped>\n",
       "    .dataframe tbody tr th:only-of-type {\n",
       "        vertical-align: middle;\n",
       "    }\n",
       "\n",
       "    .dataframe tbody tr th {\n",
       "        vertical-align: top;\n",
       "    }\n",
       "\n",
       "    .dataframe thead th {\n",
       "        text-align: right;\n",
       "    }\n",
       "</style>\n",
       "<table border=\"1\" class=\"dataframe\">\n",
       "  <thead>\n",
       "    <tr style=\"text-align: right;\">\n",
       "      <th></th>\n",
       "      <th>Name</th>\n",
       "      <th>DateOfBirth</th>\n",
       "      <th>Gender</th>\n",
       "      <th>Address</th>\n",
       "    </tr>\n",
       "  </thead>\n",
       "  <tbody>\n",
       "    <tr>\n",
       "      <th>0</th>\n",
       "      <td>David Smith</td>\n",
       "      <td>1990-01-01</td>\n",
       "      <td>F</td>\n",
       "      <td>123 Main St</td>\n",
       "    </tr>\n",
       "    <tr>\n",
       "      <th>1</th>\n",
       "      <td>Bill Johnson</td>\n",
       "      <td>1985-05-12</td>\n",
       "      <td>M</td>\n",
       "      <td>456 Elm St</td>\n",
       "    </tr>\n",
       "    <tr>\n",
       "      <th>2</th>\n",
       "      <td>Charles Brown</td>\n",
       "      <td>1980-07-23</td>\n",
       "      <td>M</td>\n",
       "      <td>789 Oak St</td>\n",
       "    </tr>\n",
       "  </tbody>\n",
       "</table>\n",
       "</div>"
      ],
      "text/plain": [
       "            Name DateOfBirth Gender      Address\n",
       "0    David Smith  1990-01-01      F  123 Main St\n",
       "1   Bill Johnson  1985-05-12      M   456 Elm St\n",
       "2  Charles Brown  1980-07-23      M   789 Oak St"
      ]
     },
     "execution_count": 3,
     "metadata": {},
     "output_type": "execute_result"
    }
   ],
   "source": [
    "df1"
   ]
  },
  {
   "cell_type": "code",
   "execution_count": 4,
   "metadata": {},
   "outputs": [
    {
     "data": {
      "text/html": [
       "<div>\n",
       "<style scoped>\n",
       "    .dataframe tbody tr th:only-of-type {\n",
       "        vertical-align: middle;\n",
       "    }\n",
       "\n",
       "    .dataframe tbody tr th {\n",
       "        vertical-align: top;\n",
       "    }\n",
       "\n",
       "    .dataframe thead th {\n",
       "        text-align: right;\n",
       "    }\n",
       "</style>\n",
       "<table border=\"1\" class=\"dataframe\">\n",
       "  <thead>\n",
       "    <tr style=\"text-align: right;\">\n",
       "      <th></th>\n",
       "      <th>Name</th>\n",
       "      <th>DateOfBirth</th>\n",
       "      <th>Gender</th>\n",
       "      <th>Address</th>\n",
       "    </tr>\n",
       "  </thead>\n",
       "  <tbody>\n",
       "    <tr>\n",
       "      <th>0</th>\n",
       "      <td>David Smith</td>\n",
       "      <td>1990-01-01</td>\n",
       "      <td>F</td>\n",
       "      <td>123 Main Street</td>\n",
       "    </tr>\n",
       "    <tr>\n",
       "      <th>1</th>\n",
       "      <td>Robert Johnson</td>\n",
       "      <td>1985-05-12</td>\n",
       "      <td>M</td>\n",
       "      <td>456 Elm Street</td>\n",
       "    </tr>\n",
       "    <tr>\n",
       "      <th>2</th>\n",
       "      <td>Chad Brade</td>\n",
       "      <td>1980-07-25</td>\n",
       "      <td>M</td>\n",
       "      <td>789 Oak Street</td>\n",
       "    </tr>\n",
       "  </tbody>\n",
       "</table>\n",
       "</div>"
      ],
      "text/plain": [
       "             Name DateOfBirth Gender          Address\n",
       "0     David Smith  1990-01-01      F  123 Main Street\n",
       "1  Robert Johnson  1985-05-12      M   456 Elm Street\n",
       "2      Chad Brade  1980-07-25      M   789 Oak Street"
      ]
     },
     "execution_count": 4,
     "metadata": {},
     "output_type": "execute_result"
    }
   ],
   "source": [
    "df2"
   ]
  },
  {
   "cell_type": "code",
   "execution_count": 5,
   "metadata": {},
   "outputs": [
    {
     "name": "stdout",
     "output_type": "stream",
     "text": [
      "WARNING:recordlinkage:indexing - performance warning - A full index can result in large number of record pairs.\n"
     ]
    }
   ],
   "source": [
    "indexer = recordlinkage.Index()\n",
    "indexer.full()\n",
    "pairs = indexer.index(df1, df2)"
   ]
  },
  {
   "cell_type": "code",
   "execution_count": 6,
   "metadata": {},
   "outputs": [
    {
     "data": {
      "text/plain": [
       "2"
      ]
     },
     "execution_count": 6,
     "metadata": {},
     "output_type": "execute_result"
    }
   ],
   "source": [
    "indexer = recordlinkage.Index()\n",
    "indexer.block(\"DateOfBirth\")\n",
    "candidate_links = indexer.index(df1, df2)\n",
    "len(candidate_links)"
   ]
  },
  {
   "cell_type": "code",
   "execution_count": 7,
   "metadata": {},
   "outputs": [],
   "source": [
    "# Initialize the comparison object\n",
    "compare = recordlinkage.Compare()"
   ]
  },
  {
   "cell_type": "code",
   "execution_count": 8,
   "metadata": {},
   "outputs": [],
   "source": [
    "# Add comparison rules\n",
    "compare.string('Name', 'Name', method='jarowinkler', threshold=0.85, label='Name')\n",
    "compare.exact('Gender', 'Gender', label='Gender')\n",
    "compare.string('DateOfBirth', 'DateOfBirth', method='jarowinkler', threshold=0.85, label='DateOfBirth')\n",
    "compare.string('Address', 'Address', method='jarowinkler', threshold=0.85, label='Address')\n",
    "features = compare.compute(candidate_links, df1, df2)"
   ]
  },
  {
   "cell_type": "code",
   "execution_count": 9,
   "metadata": {},
   "outputs": [
    {
     "name": "stdout",
     "output_type": "stream",
     "text": [
      "Matched Records:\n",
      "Data1 record: 0 matches Data2 record: 0\n"
     ]
    }
   ],
   "source": [
    "# Identify matches\n",
    "matches = features[features.sum(axis=1) > 3].reset_index()\n",
    "matches = matches.set_index(['level_0', 'level_1'])\n",
    "\n",
    "# Output match results\n",
    "print('Matched Records:')\n",
    "for index in matches.index:\n",
    "    print(f'Data1 record: {index[0]} matches Data2 record: {index[1]}')"
   ]
  },
  {
   "cell_type": "code",
   "execution_count": 10,
   "metadata": {},
   "outputs": [
    {
     "data": {
      "text/html": [
       "<div>\n",
       "<style scoped>\n",
       "    .dataframe tbody tr th:only-of-type {\n",
       "        vertical-align: middle;\n",
       "    }\n",
       "\n",
       "    .dataframe tbody tr th {\n",
       "        vertical-align: top;\n",
       "    }\n",
       "\n",
       "    .dataframe thead th {\n",
       "        text-align: right;\n",
       "    }\n",
       "</style>\n",
       "<table border=\"1\" class=\"dataframe\">\n",
       "  <thead>\n",
       "    <tr style=\"text-align: right;\">\n",
       "      <th></th>\n",
       "      <th></th>\n",
       "      <th>Name</th>\n",
       "      <th>Gender</th>\n",
       "      <th>DateOfBirth</th>\n",
       "      <th>Address</th>\n",
       "    </tr>\n",
       "    <tr>\n",
       "      <th>level_0</th>\n",
       "      <th>level_1</th>\n",
       "      <th></th>\n",
       "      <th></th>\n",
       "      <th></th>\n",
       "      <th></th>\n",
       "    </tr>\n",
       "  </thead>\n",
       "  <tbody>\n",
       "    <tr>\n",
       "      <th>0</th>\n",
       "      <th>0</th>\n",
       "      <td>1.0</td>\n",
       "      <td>1</td>\n",
       "      <td>1.0</td>\n",
       "      <td>1.0</td>\n",
       "    </tr>\n",
       "  </tbody>\n",
       "</table>\n",
       "</div>"
      ],
      "text/plain": [
       "                 Name  Gender  DateOfBirth  Address\n",
       "level_0 level_1                                    \n",
       "0       0         1.0       1          1.0      1.0"
      ]
     },
     "execution_count": 10,
     "metadata": {},
     "output_type": "execute_result"
    }
   ],
   "source": [
    "matches"
   ]
  },
  {
   "cell_type": "markdown",
   "metadata": {},
   "source": [
    "## Linkage detection and merging example"
   ]
  },
  {
   "cell_type": "code",
   "execution_count": 11,
   "metadata": {},
   "outputs": [
    {
     "name": "stdout",
     "output_type": "stream",
     "text": [
      "WARNING:recordlinkage:indexing - performance warning - A full index can result in large number of record pairs.\n"
     ]
    }
   ],
   "source": [
    "import pandas as pd\n",
    "import recordlinkage\n",
    "\n",
    "# Define the datasets as dataframes with additional columns in df1\n",
    "data1 = {\n",
    "    \"id\": [1,2,3],\n",
    "    'Name': ['David Smith', 'Bill Johnson', 'Charles Brown'],\n",
    "    'DateOfBirth': ['1990-01-01', '1985-05-12', '1980-07-23'],\n",
    "    'Gender': ['F', 'M', 'M'],\n",
    "    'Address': ['123 Main St', '456 Elm St', '789 Oak St'],\n",
    "    'Phone': ['123-456-7890', '234-567-8901', '345-678-9012'],  # Additional column\n",
    "    'Email': ['david@example.com', 'bill@example.com', 'charles@example.com']  # Additional column\n",
    "}\n",
    "\n",
    "data2 = {\n",
    "    \"id\": [101,102,103],\n",
    "    'Name': ['David Smith', 'Robert Johnson', 'Chad Brade'],\n",
    "    'DateOfBirth': ['1990-01-01', '1985-05-12', '1980-07-25'],\n",
    "    'Gender': ['F', 'M', 'M'],\n",
    "    'Address': ['123 Main Street', '456 Elm Street', '789 Oak Street']\n",
    "}\n",
    "\n",
    "df1 = pd.DataFrame(data1).set_index(\"id\")\n",
    "df2 = pd.DataFrame(data2).set_index(\"id\")\n",
    "\n",
    "# Step 1: Create an indexer to link potential matches between the two datasets\n",
    "indexer = recordlinkage.Index()\n",
    "indexer.full()  # Or use .block() if there's a field for blocking, like 'Gender'\n",
    "\n",
    "# Generate candidate pairs\n",
    "candidate_links = indexer.index(df1, df2)\n",
    "\n",
    "# Step 2: Define comparison criteria\n",
    "compare = recordlinkage.Compare()\n",
    "compare.string('Name', 'Name', method='jarowinkler', threshold=0.85)\n",
    "compare.exact('DateOfBirth', 'DateOfBirth')\n",
    "compare.string('Address', 'Address', method='jarowinkler', threshold=0.85)\n",
    "\n",
    "# Compute the comparison vectors\n",
    "comparison_vectors = compare.compute(candidate_links, df1, df2)\n",
    "\n",
    "# Step 3: Classify matches based on a threshold\n",
    "matches = comparison_vectors[comparison_vectors.sum(axis=1) > 2]\n",
    "\n",
    "# Step 4: Convert matched pairs to a DataFrame and rename columns\n",
    "matched_indices = matches.index.to_frame(index=False)\n",
    "matched_indices.columns = ['df1_index', 'df2_index']\n",
    "\n",
    "# Step 5: Merge matched pairs with df2 and only the additional columns from df1\n",
    "additional_columns = ['Phone', 'Email']  # Define the additional columns\n",
    "linked_df = matched_indices.merge(df2, left_on='df2_index', right_index=True)\\\n",
    "                           .merge(df1[additional_columns], left_on='df1_index', right_index=True)\n",
    "\n"
   ]
  },
  {
   "cell_type": "code",
   "execution_count": 12,
   "metadata": {},
   "outputs": [
    {
     "data": {
      "text/html": [
       "<div>\n",
       "<style scoped>\n",
       "    .dataframe tbody tr th:only-of-type {\n",
       "        vertical-align: middle;\n",
       "    }\n",
       "\n",
       "    .dataframe tbody tr th {\n",
       "        vertical-align: top;\n",
       "    }\n",
       "\n",
       "    .dataframe thead th {\n",
       "        text-align: right;\n",
       "    }\n",
       "</style>\n",
       "<table border=\"1\" class=\"dataframe\">\n",
       "  <thead>\n",
       "    <tr style=\"text-align: right;\">\n",
       "      <th></th>\n",
       "      <th>df1_index</th>\n",
       "      <th>df2_index</th>\n",
       "      <th>Name</th>\n",
       "      <th>DateOfBirth</th>\n",
       "      <th>Gender</th>\n",
       "      <th>Address</th>\n",
       "      <th>Phone</th>\n",
       "      <th>Email</th>\n",
       "    </tr>\n",
       "  </thead>\n",
       "  <tbody>\n",
       "    <tr>\n",
       "      <th>0</th>\n",
       "      <td>1</td>\n",
       "      <td>101</td>\n",
       "      <td>David Smith</td>\n",
       "      <td>1990-01-01</td>\n",
       "      <td>F</td>\n",
       "      <td>123 Main Street</td>\n",
       "      <td>123-456-7890</td>\n",
       "      <td>david@example.com</td>\n",
       "    </tr>\n",
       "  </tbody>\n",
       "</table>\n",
       "</div>"
      ],
      "text/plain": [
       "   df1_index  df2_index         Name DateOfBirth Gender          Address  \\\n",
       "0          1        101  David Smith  1990-01-01      F  123 Main Street   \n",
       "\n",
       "          Phone              Email  \n",
       "0  123-456-7890  david@example.com  "
      ]
     },
     "execution_count": 12,
     "metadata": {},
     "output_type": "execute_result"
    }
   ],
   "source": [
    "linked_df"
   ]
  },
  {
   "cell_type": "code",
   "execution_count": 13,
   "metadata": {},
   "outputs": [
    {
     "data": {
      "text/html": [
       "<div>\n",
       "<style scoped>\n",
       "    .dataframe tbody tr th:only-of-type {\n",
       "        vertical-align: middle;\n",
       "    }\n",
       "\n",
       "    .dataframe tbody tr th {\n",
       "        vertical-align: top;\n",
       "    }\n",
       "\n",
       "    .dataframe thead th {\n",
       "        text-align: right;\n",
       "    }\n",
       "</style>\n",
       "<table border=\"1\" class=\"dataframe\">\n",
       "  <thead>\n",
       "    <tr style=\"text-align: right;\">\n",
       "      <th></th>\n",
       "      <th></th>\n",
       "      <th>0</th>\n",
       "      <th>1</th>\n",
       "      <th>2</th>\n",
       "    </tr>\n",
       "    <tr>\n",
       "      <th>id_1</th>\n",
       "      <th>id_2</th>\n",
       "      <th></th>\n",
       "      <th></th>\n",
       "      <th></th>\n",
       "    </tr>\n",
       "  </thead>\n",
       "  <tbody>\n",
       "    <tr>\n",
       "      <th>1</th>\n",
       "      <th>101</th>\n",
       "      <td>1.0</td>\n",
       "      <td>1</td>\n",
       "      <td>1.0</td>\n",
       "    </tr>\n",
       "  </tbody>\n",
       "</table>\n",
       "</div>"
      ],
      "text/plain": [
       "             0  1    2\n",
       "id_1 id_2             \n",
       "1    101   1.0  1  1.0"
      ]
     },
     "execution_count": 13,
     "metadata": {},
     "output_type": "execute_result"
    }
   ],
   "source": [
    "matches"
   ]
  }
 ],
 "metadata": {
  "kernelspec": {
   "display_name": ".venv",
   "language": "python",
   "name": "python3"
  },
  "language_info": {
   "codemirror_mode": {
    "name": "ipython",
    "version": 3
   },
   "file_extension": ".py",
   "mimetype": "text/x-python",
   "name": "python",
   "nbconvert_exporter": "python",
   "pygments_lexer": "ipython3",
   "version": "3.11.0rc1"
  }
 },
 "nbformat": 4,
 "nbformat_minor": 2
}
